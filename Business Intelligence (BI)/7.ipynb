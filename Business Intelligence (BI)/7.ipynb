{
 "cells": [
  {
   "cell_type": "code",
   "execution_count": 1,
   "metadata": {},
   "outputs": [],
   "source": [
    "import pandas as pd"
   ]
  },
  {
   "cell_type": "code",
   "execution_count": 2,
   "metadata": {},
   "outputs": [],
   "source": [
    "traffic = pd.read_csv(\"traffic.csv\")"
   ]
  },
  {
   "cell_type": "code",
   "execution_count": 3,
   "metadata": {},
   "outputs": [
    {
     "data": {
      "text/html": [
       "<div>\n",
       "<style scoped>\n",
       "    .dataframe tbody tr th:only-of-type {\n",
       "        vertical-align: middle;\n",
       "    }\n",
       "\n",
       "    .dataframe tbody tr th {\n",
       "        vertical-align: top;\n",
       "    }\n",
       "\n",
       "    .dataframe thead th {\n",
       "        text-align: right;\n",
       "    }\n",
       "</style>\n",
       "<table border=\"1\" class=\"dataframe\">\n",
       "  <thead>\n",
       "    <tr style=\"text-align: right;\">\n",
       "      <th></th>\n",
       "      <th>Hour (Coded);Immobilized bus;Broken Truck;Vehicle excess;Accident victim;Running over;Fire vehicles;Occurrence involving freight;Incident involving dangerous freight;Lack of electricity;Fire;Point of flooding;Manifestations;Defect in the network of trolleybuses;Tree on the road;Semaphore off;Intermittent Semaphore;Slowness in traffic (%)</th>\n",
       "    </tr>\n",
       "  </thead>\n",
       "  <tbody>\n",
       "    <tr>\n",
       "      <th>1;0;0;0;0;0;0;0;0;0;0;0;0;0;0;0;0;4</th>\n",
       "      <td>1.0</td>\n",
       "    </tr>\n",
       "    <tr>\n",
       "      <th>2;0;0;0;0;0;0;0;0;0;0;0;0;0;0;0;0;6</th>\n",
       "      <td>6.0</td>\n",
       "    </tr>\n",
       "    <tr>\n",
       "      <th>3;0;0;0;0;0;0;0;0;0;0;0;0;0;0;0;0;8</th>\n",
       "      <td>7.0</td>\n",
       "    </tr>\n",
       "    <tr>\n",
       "      <th>4;0;0;0;0;0;0;0;0;0;0;0;0;0;0;0;0;9</th>\n",
       "      <td>2.0</td>\n",
       "    </tr>\n",
       "    <tr>\n",
       "      <th>5;0;0;0;0;0;0;0;0;0;0;0;0;0;0;0;0;11</th>\n",
       "      <td>1.0</td>\n",
       "    </tr>\n",
       "  </tbody>\n",
       "</table>\n",
       "</div>"
      ],
      "text/plain": [
       "                                      Hour (Coded);Immobilized bus;Broken Truck;Vehicle excess;Accident victim;Running over;Fire vehicles;Occurrence involving freight;Incident involving dangerous freight;Lack of electricity;Fire;Point of flooding;Manifestations;Defect in the network of trolleybuses;Tree on the road;Semaphore off;Intermittent Semaphore;Slowness in traffic (%)\n",
       "1;0;0;0;0;0;0;0;0;0;0;0;0;0;0;0;0;4                                                 1.0                                                                                                                                                                                                                                                                                                  \n",
       "2;0;0;0;0;0;0;0;0;0;0;0;0;0;0;0;0;6                                                 6.0                                                                                                                                                                                                                                                                                                  \n",
       "3;0;0;0;0;0;0;0;0;0;0;0;0;0;0;0;0;8                                                 7.0                                                                                                                                                                                                                                                                                                  \n",
       "4;0;0;0;0;0;0;0;0;0;0;0;0;0;0;0;0;9                                                 2.0                                                                                                                                                                                                                                                                                                  \n",
       "5;0;0;0;0;0;0;0;0;0;0;0;0;0;0;0;0;11                                                1.0                                                                                                                                                                                                                                                                                                  "
      ]
     },
     "execution_count": 3,
     "metadata": {},
     "output_type": "execute_result"
    }
   ],
   "source": [
    "traffic.head()"
   ]
  },
  {
   "cell_type": "code",
   "execution_count": 5,
   "metadata": {},
   "outputs": [
    {
     "data": {
      "text/plain": [
       "['waqas', 'zubair']"
      ]
     },
     "execution_count": 5,
     "metadata": {},
     "output_type": "execute_result"
    }
   ],
   "source": [
    "# \"waqas-zubair\".split(\"-\")"
   ]
  },
  {
   "cell_type": "code",
   "execution_count": 7,
   "metadata": {},
   "outputs": [
    {
     "data": {
      "text/html": [
       "<div>\n",
       "<style scoped>\n",
       "    .dataframe tbody tr th:only-of-type {\n",
       "        vertical-align: middle;\n",
       "    }\n",
       "\n",
       "    .dataframe tbody tr th {\n",
       "        vertical-align: top;\n",
       "    }\n",
       "\n",
       "    .dataframe thead th {\n",
       "        text-align: right;\n",
       "    }\n",
       "</style>\n",
       "<table border=\"1\" class=\"dataframe\">\n",
       "  <thead>\n",
       "    <tr style=\"text-align: right;\">\n",
       "      <th></th>\n",
       "      <th>Hour (Coded)</th>\n",
       "      <th>Immobilized bus</th>\n",
       "      <th>Broken Truck</th>\n",
       "      <th>Vehicle excess</th>\n",
       "      <th>Accident victim</th>\n",
       "      <th>Running over</th>\n",
       "      <th>Fire vehicles</th>\n",
       "      <th>Occurrence involving freight</th>\n",
       "      <th>Incident involving dangerous freight</th>\n",
       "      <th>Lack of electricity</th>\n",
       "      <th>Fire</th>\n",
       "      <th>Point of flooding</th>\n",
       "      <th>Manifestations</th>\n",
       "      <th>Defect in the network of trolleybuses</th>\n",
       "      <th>Tree on the road</th>\n",
       "      <th>Semaphore off</th>\n",
       "      <th>Intermittent Semaphore</th>\n",
       "      <th>Slowness in traffic (%)</th>\n",
       "    </tr>\n",
       "  </thead>\n",
       "  <tbody>\n",
       "    <tr>\n",
       "      <th>0</th>\n",
       "      <td>1</td>\n",
       "      <td>0</td>\n",
       "      <td>0</td>\n",
       "      <td>0</td>\n",
       "      <td>0</td>\n",
       "      <td>0</td>\n",
       "      <td>0</td>\n",
       "      <td>0</td>\n",
       "      <td>0</td>\n",
       "      <td>0</td>\n",
       "      <td>0</td>\n",
       "      <td>0</td>\n",
       "      <td>0</td>\n",
       "      <td>0</td>\n",
       "      <td>0</td>\n",
       "      <td>0</td>\n",
       "      <td>0</td>\n",
       "      <td>4,1</td>\n",
       "    </tr>\n",
       "    <tr>\n",
       "      <th>1</th>\n",
       "      <td>2</td>\n",
       "      <td>0</td>\n",
       "      <td>0</td>\n",
       "      <td>0</td>\n",
       "      <td>0</td>\n",
       "      <td>0</td>\n",
       "      <td>0</td>\n",
       "      <td>0</td>\n",
       "      <td>0</td>\n",
       "      <td>0</td>\n",
       "      <td>0</td>\n",
       "      <td>0</td>\n",
       "      <td>0</td>\n",
       "      <td>0</td>\n",
       "      <td>0</td>\n",
       "      <td>0</td>\n",
       "      <td>0</td>\n",
       "      <td>6,6</td>\n",
       "    </tr>\n",
       "    <tr>\n",
       "      <th>2</th>\n",
       "      <td>3</td>\n",
       "      <td>0</td>\n",
       "      <td>0</td>\n",
       "      <td>0</td>\n",
       "      <td>0</td>\n",
       "      <td>0</td>\n",
       "      <td>0</td>\n",
       "      <td>0</td>\n",
       "      <td>0</td>\n",
       "      <td>0</td>\n",
       "      <td>0</td>\n",
       "      <td>0</td>\n",
       "      <td>0</td>\n",
       "      <td>0</td>\n",
       "      <td>0</td>\n",
       "      <td>0</td>\n",
       "      <td>0</td>\n",
       "      <td>8,7</td>\n",
       "    </tr>\n",
       "    <tr>\n",
       "      <th>3</th>\n",
       "      <td>4</td>\n",
       "      <td>0</td>\n",
       "      <td>0</td>\n",
       "      <td>0</td>\n",
       "      <td>0</td>\n",
       "      <td>0</td>\n",
       "      <td>0</td>\n",
       "      <td>0</td>\n",
       "      <td>0</td>\n",
       "      <td>0</td>\n",
       "      <td>0</td>\n",
       "      <td>0</td>\n",
       "      <td>0</td>\n",
       "      <td>0</td>\n",
       "      <td>0</td>\n",
       "      <td>0</td>\n",
       "      <td>0</td>\n",
       "      <td>9,2</td>\n",
       "    </tr>\n",
       "    <tr>\n",
       "      <th>4</th>\n",
       "      <td>5</td>\n",
       "      <td>0</td>\n",
       "      <td>0</td>\n",
       "      <td>0</td>\n",
       "      <td>0</td>\n",
       "      <td>0</td>\n",
       "      <td>0</td>\n",
       "      <td>0</td>\n",
       "      <td>0</td>\n",
       "      <td>0</td>\n",
       "      <td>0</td>\n",
       "      <td>0</td>\n",
       "      <td>0</td>\n",
       "      <td>0</td>\n",
       "      <td>0</td>\n",
       "      <td>0</td>\n",
       "      <td>0</td>\n",
       "      <td>11,1</td>\n",
       "    </tr>\n",
       "  </tbody>\n",
       "</table>\n",
       "</div>"
      ],
      "text/plain": [
       "   Hour (Coded)  Immobilized bus  Broken Truck  Vehicle excess  \\\n",
       "0             1                0             0               0   \n",
       "1             2                0             0               0   \n",
       "2             3                0             0               0   \n",
       "3             4                0             0               0   \n",
       "4             5                0             0               0   \n",
       "\n",
       "   Accident victim  Running over  Fire vehicles  Occurrence involving freight  \\\n",
       "0                0             0              0                             0   \n",
       "1                0             0              0                             0   \n",
       "2                0             0              0                             0   \n",
       "3                0             0              0                             0   \n",
       "4                0             0              0                             0   \n",
       "\n",
       "   Incident involving dangerous freight  Lack of electricity  Fire  \\\n",
       "0                                     0                    0     0   \n",
       "1                                     0                    0     0   \n",
       "2                                     0                    0     0   \n",
       "3                                     0                    0     0   \n",
       "4                                     0                    0     0   \n",
       "\n",
       "   Point of flooding  Manifestations  Defect in the network of trolleybuses  \\\n",
       "0                  0               0                                      0   \n",
       "1                  0               0                                      0   \n",
       "2                  0               0                                      0   \n",
       "3                  0               0                                      0   \n",
       "4                  0               0                                      0   \n",
       "\n",
       "   Tree on the road  Semaphore off  Intermittent Semaphore  \\\n",
       "0                 0              0                       0   \n",
       "1                 0              0                       0   \n",
       "2                 0              0                       0   \n",
       "3                 0              0                       0   \n",
       "4                 0              0                       0   \n",
       "\n",
       "  Slowness in traffic (%)  \n",
       "0                     4,1  \n",
       "1                     6,6  \n",
       "2                     8,7  \n",
       "3                     9,2  \n",
       "4                    11,1  "
      ]
     },
     "execution_count": 7,
     "metadata": {},
     "output_type": "execute_result"
    }
   ],
   "source": [
    "traffic = pd.read_csv(\"traffic.csv\", delimiter = \";\")\n",
    "traffic.head()"
   ]
  },
  {
   "cell_type": "code",
   "execution_count": 8,
   "metadata": {},
   "outputs": [
    {
     "data": {
      "text/html": [
       "<div>\n",
       "<style scoped>\n",
       "    .dataframe tbody tr th:only-of-type {\n",
       "        vertical-align: middle;\n",
       "    }\n",
       "\n",
       "    .dataframe tbody tr th {\n",
       "        vertical-align: top;\n",
       "    }\n",
       "\n",
       "    .dataframe thead th {\n",
       "        text-align: right;\n",
       "    }\n",
       "</style>\n",
       "<table border=\"1\" class=\"dataframe\">\n",
       "  <thead>\n",
       "    <tr style=\"text-align: right;\">\n",
       "      <th></th>\n",
       "      <th>Hour (Coded)</th>\n",
       "      <th>Immobilized bus</th>\n",
       "      <th>Broken Truck</th>\n",
       "      <th>Vehicle excess</th>\n",
       "      <th>Accident victim</th>\n",
       "      <th>Running over</th>\n",
       "      <th>Fire vehicles</th>\n",
       "      <th>Occurrence involving freight</th>\n",
       "      <th>Incident involving dangerous freight</th>\n",
       "      <th>Lack of electricity</th>\n",
       "      <th>Fire</th>\n",
       "      <th>Point of flooding</th>\n",
       "      <th>Manifestations</th>\n",
       "      <th>Defect in the network of trolleybuses</th>\n",
       "      <th>Tree on the road</th>\n",
       "      <th>Semaphore off</th>\n",
       "      <th>Intermittent Semaphore</th>\n",
       "      <th>Slowness in traffic (%)</th>\n",
       "    </tr>\n",
       "  </thead>\n",
       "  <tbody>\n",
       "    <tr>\n",
       "      <th>0</th>\n",
       "      <td>1</td>\n",
       "      <td>0</td>\n",
       "      <td>0</td>\n",
       "      <td>0</td>\n",
       "      <td>0</td>\n",
       "      <td>0</td>\n",
       "      <td>0</td>\n",
       "      <td>0</td>\n",
       "      <td>0</td>\n",
       "      <td>0</td>\n",
       "      <td>0</td>\n",
       "      <td>0</td>\n",
       "      <td>0</td>\n",
       "      <td>0</td>\n",
       "      <td>0</td>\n",
       "      <td>0</td>\n",
       "      <td>0</td>\n",
       "      <td>4,1</td>\n",
       "    </tr>\n",
       "    <tr>\n",
       "      <th>1</th>\n",
       "      <td>2</td>\n",
       "      <td>0</td>\n",
       "      <td>0</td>\n",
       "      <td>0</td>\n",
       "      <td>0</td>\n",
       "      <td>0</td>\n",
       "      <td>0</td>\n",
       "      <td>0</td>\n",
       "      <td>0</td>\n",
       "      <td>0</td>\n",
       "      <td>0</td>\n",
       "      <td>0</td>\n",
       "      <td>0</td>\n",
       "      <td>0</td>\n",
       "      <td>0</td>\n",
       "      <td>0</td>\n",
       "      <td>0</td>\n",
       "      <td>6,6</td>\n",
       "    </tr>\n",
       "    <tr>\n",
       "      <th>2</th>\n",
       "      <td>3</td>\n",
       "      <td>0</td>\n",
       "      <td>0</td>\n",
       "      <td>0</td>\n",
       "      <td>0</td>\n",
       "      <td>0</td>\n",
       "      <td>0</td>\n",
       "      <td>0</td>\n",
       "      <td>0</td>\n",
       "      <td>0</td>\n",
       "      <td>0</td>\n",
       "      <td>0</td>\n",
       "      <td>0</td>\n",
       "      <td>0</td>\n",
       "      <td>0</td>\n",
       "      <td>0</td>\n",
       "      <td>0</td>\n",
       "      <td>8,7</td>\n",
       "    </tr>\n",
       "    <tr>\n",
       "      <th>3</th>\n",
       "      <td>4</td>\n",
       "      <td>0</td>\n",
       "      <td>0</td>\n",
       "      <td>0</td>\n",
       "      <td>0</td>\n",
       "      <td>0</td>\n",
       "      <td>0</td>\n",
       "      <td>0</td>\n",
       "      <td>0</td>\n",
       "      <td>0</td>\n",
       "      <td>0</td>\n",
       "      <td>0</td>\n",
       "      <td>0</td>\n",
       "      <td>0</td>\n",
       "      <td>0</td>\n",
       "      <td>0</td>\n",
       "      <td>0</td>\n",
       "      <td>9,2</td>\n",
       "    </tr>\n",
       "    <tr>\n",
       "      <th>4</th>\n",
       "      <td>5</td>\n",
       "      <td>0</td>\n",
       "      <td>0</td>\n",
       "      <td>0</td>\n",
       "      <td>0</td>\n",
       "      <td>0</td>\n",
       "      <td>0</td>\n",
       "      <td>0</td>\n",
       "      <td>0</td>\n",
       "      <td>0</td>\n",
       "      <td>0</td>\n",
       "      <td>0</td>\n",
       "      <td>0</td>\n",
       "      <td>0</td>\n",
       "      <td>0</td>\n",
       "      <td>0</td>\n",
       "      <td>0</td>\n",
       "      <td>11,1</td>\n",
       "    </tr>\n",
       "  </tbody>\n",
       "</table>\n",
       "</div>"
      ],
      "text/plain": [
       "   Hour (Coded)  Immobilized bus  Broken Truck  Vehicle excess  \\\n",
       "0             1                0             0               0   \n",
       "1             2                0             0               0   \n",
       "2             3                0             0               0   \n",
       "3             4                0             0               0   \n",
       "4             5                0             0               0   \n",
       "\n",
       "   Accident victim  Running over  Fire vehicles  Occurrence involving freight  \\\n",
       "0                0             0              0                             0   \n",
       "1                0             0              0                             0   \n",
       "2                0             0              0                             0   \n",
       "3                0             0              0                             0   \n",
       "4                0             0              0                             0   \n",
       "\n",
       "   Incident involving dangerous freight  Lack of electricity  Fire  \\\n",
       "0                                     0                    0     0   \n",
       "1                                     0                    0     0   \n",
       "2                                     0                    0     0   \n",
       "3                                     0                    0     0   \n",
       "4                                     0                    0     0   \n",
       "\n",
       "   Point of flooding  Manifestations  Defect in the network of trolleybuses  \\\n",
       "0                  0               0                                      0   \n",
       "1                  0               0                                      0   \n",
       "2                  0               0                                      0   \n",
       "3                  0               0                                      0   \n",
       "4                  0               0                                      0   \n",
       "\n",
       "   Tree on the road  Semaphore off  Intermittent Semaphore  \\\n",
       "0                 0              0                       0   \n",
       "1                 0              0                       0   \n",
       "2                 0              0                       0   \n",
       "3                 0              0                       0   \n",
       "4                 0              0                       0   \n",
       "\n",
       "  Slowness in traffic (%)  \n",
       "0                     4,1  \n",
       "1                     6,6  \n",
       "2                     8,7  \n",
       "3                     9,2  \n",
       "4                    11,1  "
      ]
     },
     "execution_count": 8,
     "metadata": {},
     "output_type": "execute_result"
    }
   ],
   "source": [
    "traffic = pd.read_csv(\"traffic.csv\", sep = \";\")\n",
    "traffic.head()"
   ]
  },
  {
   "cell_type": "code",
   "execution_count": null,
   "metadata": {},
   "outputs": [],
   "source": [
    "# 14 December 2009  - 18 Dec 2009"
   ]
  },
  {
   "cell_type": "code",
   "execution_count": null,
   "metadata": {},
   "outputs": [],
   "source": [
    "7-20 7,7.30,8,8.30 -------------------------------19.30.20"
   ]
  },
  {
   "cell_type": "code",
   "execution_count": 11,
   "metadata": {},
   "outputs": [
    {
     "data": {
      "text/plain": [
       "1     5\n",
       "2     5\n",
       "3     5\n",
       "4     5\n",
       "5     5\n",
       "6     5\n",
       "7     5\n",
       "8     5\n",
       "9     5\n",
       "10    5\n",
       "11    5\n",
       "12    5\n",
       "13    5\n",
       "14    5\n",
       "15    5\n",
       "16    5\n",
       "17    5\n",
       "18    5\n",
       "19    5\n",
       "20    5\n",
       "21    5\n",
       "22    5\n",
       "23    5\n",
       "24    5\n",
       "25    5\n",
       "26    5\n",
       "27    5\n",
       "Name: Hour (Coded), dtype: int64"
      ]
     },
     "execution_count": 11,
     "metadata": {},
     "output_type": "execute_result"
    }
   ],
   "source": [
    "traffic[\"Hour (Coded)\"].value_counts().sort_index()"
   ]
  },
  {
   "cell_type": "code",
   "execution_count": 15,
   "metadata": {},
   "outputs": [],
   "source": [
    "traffic[\"Slowness in traffic (%)\"] = traffic[\"Slowness in traffic (%)\"].str.replace(\",\", \".\").astype(float)"
   ]
  },
  {
   "cell_type": "code",
   "execution_count": 16,
   "metadata": {},
   "outputs": [
    {
     "data": {
      "text/plain": [
       "count    135.000000\n",
       "mean      10.051852\n",
       "std        4.363243\n",
       "min        3.400000\n",
       "25%        7.400000\n",
       "50%        9.000000\n",
       "75%       11.850000\n",
       "max       23.400000\n",
       "Name: Slowness in traffic (%), dtype: float64"
      ]
     },
     "execution_count": 16,
     "metadata": {},
     "output_type": "execute_result"
    }
   ],
   "source": [
    "traffic[\"Slowness in traffic (%)\"].describe()"
   ]
  },
  {
   "cell_type": "code",
   "execution_count": 18,
   "metadata": {},
   "outputs": [],
   "source": [
    "import matplotlib.pyplot as plt"
   ]
  },
  {
   "cell_type": "code",
   "execution_count": 19,
   "metadata": {},
   "outputs": [
    {
     "data": {
      "image/png": "[encoded data removed]",
      "text/plain": [
       "<Figure size 432x288 with 1 Axes>"
      ]
     },
     "metadata": {
      "needs_background": "light"
     },
     "output_type": "display_data"
    }
   ],
   "source": [
    "plt.hist(traffic[\"Slowness in traffic (%)\"])\n",
    "plt.show()"
   ]
  },
  {
   "cell_type": "code",
   "execution_count": 20,
   "metadata": {},
   "outputs": [
    {
     "data": {
      "image/png": "[encoded data removed]",
      "text/plain": [
       "<Figure size 432x288 with 1 Axes>"
      ]
     },
     "metadata": {
      "needs_background": "light"
     },
     "output_type": "display_data"
    }
   ],
   "source": [
    "traffic[\"Slowness in traffic (%)\"].plot.hist()\n",
    "plt.show()"
   ]
  },
  {
   "cell_type": "code",
   "execution_count": 24,
   "metadata": {},
   "outputs": [
    {
     "data": {
      "image/png": "[encoded data removed]",
      "text/plain": [
       "<Figure size 432x288 with 1 Axes>"
      ]
     },
     "metadata": {
      "needs_background": "light"
     },
     "output_type": "display_data"
    }
   ],
   "source": [
    "traffic[\"Slowness in traffic (%)\"].plot.box()\n",
    "plt.show()"
   ]
  },
  {
   "cell_type": "code",
   "execution_count": 25,
   "metadata": {},
   "outputs": [
    {
     "data": {
      "text/plain": [
       "Index(['Hour (Coded)', 'Immobilized bus', 'Broken Truck', 'Vehicle excess',\n",
       "       'Accident victim', 'Running over', 'Fire vehicles',\n",
       "       'Occurrence involving freight', 'Incident involving dangerous freight',\n",
       "       'Lack of electricity', 'Fire', 'Point of flooding', 'Manifestations',\n",
       "       'Defect in the network of trolleybuses', 'Tree on the road',\n",
       "       'Semaphore off', 'Intermittent Semaphore', 'Slowness in traffic (%)'],\n",
       "      dtype='object')"
      ]
     },
     "execution_count": 25,
     "metadata": {},
     "output_type": "execute_result"
    }
   ],
   "source": [
    "traffic.columns"
   ]
  },
  {
   "cell_type": "code",
   "execution_count": 30,
   "metadata": {},
   "outputs": [
    {
     "data": {
      "text/plain": [
       "Immobilized bus                           46\n",
       "Broken Truck                             118\n",
       "Vehicle excess                             4\n",
       "Accident victim                           57\n",
       "Running over                              16\n",
       "Fire vehicles                              1\n",
       "Occurrence involving freight               1\n",
       "Incident involving dangerous freight       1\n",
       "Lack of electricity                       16\n",
       "Fire                                       1\n",
       "Point of flooding                         16\n",
       "Manifestations                             7\n",
       "Defect in the network of trolleybuses     31\n",
       "Tree on the road                           6\n",
       "Semaphore off                             17\n",
       "Intermittent Semaphore                     2\n",
       "dtype: int64"
      ]
     },
     "execution_count": 30,
     "metadata": {},
     "output_type": "execute_result"
    }
   ],
   "source": [
    "incident  = traffic.drop(['Hour (Coded)','Slowness in traffic (%)'], axis = 1).sum()\n",
    "incident"
   ]
  },
  {
   "cell_type": "code",
   "execution_count": 31,
   "metadata": {},
   "outputs": [
    {
     "data": {
      "image/png": "[encoded data removed]",
      "text/plain": [
       "<Figure size 432x288 with 1 Axes>"
      ]
     },
     "metadata": {
      "needs_background": "light"
     },
     "output_type": "display_data"
    }
   ],
   "source": [
    "incident.plot.bar()\n",
    "plt.show()"
   ]
  },
  {
   "cell_type": "code",
   "execution_count": 32,
   "metadata": {},
   "outputs": [
    {
     "data": {
      "image/png": "[encoded data removed]",
      "text/plain": [
       "<Figure size 432x288 with 1 Axes>"
      ]
     },
     "metadata": {
      "needs_background": "light"
     },
     "output_type": "display_data"
    }
   ],
   "source": [
    "incident.plot.barh()\n",
    "plt.show()"
   ]
  },
  {
   "cell_type": "code",
   "execution_count": 37,
   "metadata": {},
   "outputs": [
    {
     "data": {
      "text/plain": [
       "Slowness in traffic (%)                  1.000000\n",
       "Hour (Coded)                             0.729962\n",
       "Lack of electricity                      0.436569\n",
       "Point of flooding                        0.420016\n",
       "Semaphore off                            0.347242\n",
       "Defect in the network of trolleybuses    0.147035\n",
       "Fire vehicles                            0.134103\n",
       "Broken Truck                             0.131998\n",
       "Accident victim                          0.121730\n",
       "Intermittent Semaphore                   0.119942\n",
       "Immobilized bus                          0.101143\n",
       "Tree on the road                         0.098489\n",
       "Manifestations                           0.066377\n",
       "Fire                                     0.046737\n",
       "Vehicle excess                           0.045297\n",
       "Occurrence involving freight             0.026791\n",
       "Running over                             0.001133\n",
       "Incident involving dangerous freight     0.000957\n",
       "Name: Slowness in traffic (%), dtype: float64"
      ]
     },
     "execution_count": 37,
     "metadata": {},
     "output_type": "execute_result"
    }
   ],
   "source": [
    "traffic.corr()['Slowness in traffic (%)'].abs().sort_values(ascending = False)"
   ]
  },
  {
   "cell_type": "code",
   "execution_count": null,
   "metadata": {},
   "outputs": [],
   "source": [
    "# plt.scatter()\n",
    "\n",
    "traffic.plot.scatter()"
   ]
  },
  {
   "cell_type": "code",
   "execution_count": 39,
   "metadata": {},
   "outputs": [],
   "source": [
    "slow_20 = traffic[traffic['Slowness in traffic (%)']>= 20]"
   ]
  },
  {
   "cell_type": "code",
   "execution_count": 41,
   "metadata": {},
   "outputs": [],
   "source": [
    "inc = slow_20.drop(['Hour (Coded)','Slowness in traffic (%)'], axis = 1).sum()"
   ]
  },
  {
   "cell_type": "code",
   "execution_count": 42,
   "metadata": {},
   "outputs": [
    {
     "data": {
      "image/png": "[encoded data removed]",
      "text/plain": [
       "<Figure size 432x288 with 1 Axes>"
      ]
     },
     "metadata": {
      "needs_background": "light"
     },
     "output_type": "display_data"
    }
   ],
   "source": [
    "inc.plot.barh()\n",
    "plt.show()"
   ]
  },
  {
   "cell_type": "code",
   "execution_count": 43,
   "metadata": {},
   "outputs": [
    {
     "data": {
      "text/html": [
       "<div>\n",
       "<style scoped>\n",
       "    .dataframe tbody tr th:only-of-type {\n",
       "        vertical-align: middle;\n",
       "    }\n",
       "\n",
       "    .dataframe tbody tr th {\n",
       "        vertical-align: top;\n",
       "    }\n",
       "\n",
       "    .dataframe thead th {\n",
       "        text-align: right;\n",
       "    }\n",
       "</style>\n",
       "<table border=\"1\" class=\"dataframe\">\n",
       "  <thead>\n",
       "    <tr style=\"text-align: right;\">\n",
       "      <th></th>\n",
       "      <th>Hour (Coded)</th>\n",
       "      <th>Immobilized bus</th>\n",
       "      <th>Broken Truck</th>\n",
       "      <th>Vehicle excess</th>\n",
       "      <th>Accident victim</th>\n",
       "      <th>Running over</th>\n",
       "      <th>Fire vehicles</th>\n",
       "      <th>Occurrence involving freight</th>\n",
       "      <th>Incident involving dangerous freight</th>\n",
       "      <th>Lack of electricity</th>\n",
       "      <th>Fire</th>\n",
       "      <th>Point of flooding</th>\n",
       "      <th>Manifestations</th>\n",
       "      <th>Defect in the network of trolleybuses</th>\n",
       "      <th>Tree on the road</th>\n",
       "      <th>Semaphore off</th>\n",
       "      <th>Intermittent Semaphore</th>\n",
       "      <th>Slowness in traffic (%)</th>\n",
       "    </tr>\n",
       "  </thead>\n",
       "  <tbody>\n",
       "    <tr>\n",
       "      <th>0</th>\n",
       "      <td>1</td>\n",
       "      <td>0</td>\n",
       "      <td>0</td>\n",
       "      <td>0</td>\n",
       "      <td>0</td>\n",
       "      <td>0</td>\n",
       "      <td>0</td>\n",
       "      <td>0</td>\n",
       "      <td>0</td>\n",
       "      <td>0</td>\n",
       "      <td>0</td>\n",
       "      <td>0</td>\n",
       "      <td>0</td>\n",
       "      <td>0</td>\n",
       "      <td>0</td>\n",
       "      <td>0</td>\n",
       "      <td>0</td>\n",
       "      <td>4.1</td>\n",
       "    </tr>\n",
       "    <tr>\n",
       "      <th>1</th>\n",
       "      <td>2</td>\n",
       "      <td>0</td>\n",
       "      <td>0</td>\n",
       "      <td>0</td>\n",
       "      <td>0</td>\n",
       "      <td>0</td>\n",
       "      <td>0</td>\n",
       "      <td>0</td>\n",
       "      <td>0</td>\n",
       "      <td>0</td>\n",
       "      <td>0</td>\n",
       "      <td>0</td>\n",
       "      <td>0</td>\n",
       "      <td>0</td>\n",
       "      <td>0</td>\n",
       "      <td>0</td>\n",
       "      <td>0</td>\n",
       "      <td>6.6</td>\n",
       "    </tr>\n",
       "    <tr>\n",
       "      <th>2</th>\n",
       "      <td>3</td>\n",
       "      <td>0</td>\n",
       "      <td>0</td>\n",
       "      <td>0</td>\n",
       "      <td>0</td>\n",
       "      <td>0</td>\n",
       "      <td>0</td>\n",
       "      <td>0</td>\n",
       "      <td>0</td>\n",
       "      <td>0</td>\n",
       "      <td>0</td>\n",
       "      <td>0</td>\n",
       "      <td>0</td>\n",
       "      <td>0</td>\n",
       "      <td>0</td>\n",
       "      <td>0</td>\n",
       "      <td>0</td>\n",
       "      <td>8.7</td>\n",
       "    </tr>\n",
       "    <tr>\n",
       "      <th>3</th>\n",
       "      <td>4</td>\n",
       "      <td>0</td>\n",
       "      <td>0</td>\n",
       "      <td>0</td>\n",
       "      <td>0</td>\n",
       "      <td>0</td>\n",
       "      <td>0</td>\n",
       "      <td>0</td>\n",
       "      <td>0</td>\n",
       "      <td>0</td>\n",
       "      <td>0</td>\n",
       "      <td>0</td>\n",
       "      <td>0</td>\n",
       "      <td>0</td>\n",
       "      <td>0</td>\n",
       "      <td>0</td>\n",
       "      <td>0</td>\n",
       "      <td>9.2</td>\n",
       "    </tr>\n",
       "    <tr>\n",
       "      <th>4</th>\n",
       "      <td>5</td>\n",
       "      <td>0</td>\n",
       "      <td>0</td>\n",
       "      <td>0</td>\n",
       "      <td>0</td>\n",
       "      <td>0</td>\n",
       "      <td>0</td>\n",
       "      <td>0</td>\n",
       "      <td>0</td>\n",
       "      <td>0</td>\n",
       "      <td>0</td>\n",
       "      <td>0</td>\n",
       "      <td>0</td>\n",
       "      <td>0</td>\n",
       "      <td>0</td>\n",
       "      <td>0</td>\n",
       "      <td>0</td>\n",
       "      <td>11.1</td>\n",
       "    </tr>\n",
       "  </tbody>\n",
       "</table>\n",
       "</div>"
      ],
      "text/plain": [
       "   Hour (Coded)  Immobilized bus  Broken Truck  Vehicle excess  \\\n",
       "0             1                0             0               0   \n",
       "1             2                0             0               0   \n",
       "2             3                0             0               0   \n",
       "3             4                0             0               0   \n",
       "4             5                0             0               0   \n",
       "\n",
       "   Accident victim  Running over  Fire vehicles  Occurrence involving freight  \\\n",
       "0                0             0              0                             0   \n",
       "1                0             0              0                             0   \n",
       "2                0             0              0                             0   \n",
       "3                0             0              0                             0   \n",
       "4                0             0              0                             0   \n",
       "\n",
       "   Incident involving dangerous freight  Lack of electricity  Fire  \\\n",
       "0                                     0                    0     0   \n",
       "1                                     0                    0     0   \n",
       "2                                     0                    0     0   \n",
       "3                                     0                    0     0   \n",
       "4                                     0                    0     0   \n",
       "\n",
       "   Point of flooding  Manifestations  Defect in the network of trolleybuses  \\\n",
       "0                  0               0                                      0   \n",
       "1                  0               0                                      0   \n",
       "2                  0               0                                      0   \n",
       "3                  0               0                                      0   \n",
       "4                  0               0                                      0   \n",
       "\n",
       "   Tree on the road  Semaphore off  Intermittent Semaphore  \\\n",
       "0                 0              0                       0   \n",
       "1                 0              0                       0   \n",
       "2                 0              0                       0   \n",
       "3                 0              0                       0   \n",
       "4                 0              0                       0   \n",
       "\n",
       "   Slowness in traffic (%)  \n",
       "0                      4.1  \n",
       "1                      6.6  \n",
       "2                      8.7  \n",
       "3                      9.2  \n",
       "4                     11.1  "
      ]
     },
     "execution_count": 43,
     "metadata": {},
     "output_type": "execute_result"
    }
   ],
   "source": [
    "days = [\"Monday\", \"Tuesday\", \"Wednesday\", \"Thursday\", \"Friday\"]\n",
    "\n",
    "traffic.head()"
   ]
  },
  {
   "cell_type": "code",
   "execution_count": 45,
   "metadata": {},
   "outputs": [
    {
     "data": {
      "text/plain": [
       "(135, 18)"
      ]
     },
     "execution_count": 45,
     "metadata": {},
     "output_type": "execute_result"
    }
   ],
   "source": [
    "traffic.shape"
   ]
  },
  {
   "cell_type": "code",
   "execution_count": 46,
   "metadata": {},
   "outputs": [],
   "source": [
    "# traffic[\"days\"][:27] = \"Monday\"\n",
    "# traffic[\"days\"][27:54] = \"Tues\""
   ]
  },
  {
   "cell_type": "code",
   "execution_count": 50,
   "metadata": {},
   "outputs": [],
   "source": [
    "traffic_per_day = {}\n",
    "for i, day in zip(range(0,135,27), days):\n",
    "#     print(i, day)\n",
    "    traffic_per_day[day] = traffic[i:i+27]"
   ]
  },
  {
   "cell_type": "code",
   "execution_count": 51,
   "metadata": {},
   "outputs": [
    {
     "data": {
      "text/plain": [
       "dict_keys(['Monday', 'Tuesday', 'Wednesday', 'Thursday', 'Friday'])"
      ]
     },
     "execution_count": 51,
     "metadata": {},
     "output_type": "execute_result"
    }
   ],
   "source": [
    "traffic_per_day.keys()"
   ]
  },
  {
   "cell_type": "code",
   "execution_count": 55,
   "metadata": {},
   "outputs": [
    {
     "data": {
      "text/plain": [
       "(27, 18)"
      ]
     },
     "execution_count": 55,
     "metadata": {},
     "output_type": "execute_result"
    }
   ],
   "source": [
    "traffic_per_day[\"Thursday\"].shape"
   ]
  },
  {
   "cell_type": "code",
   "execution_count": 58,
   "metadata": {},
   "outputs": [
    {
     "name": "stdout",
     "output_type": "stream",
     "text": [
      "(27, 18)\n",
      "(27, 18)\n",
      "(27, 18)\n",
      "(27, 18)\n",
      "(27, 18)\n"
     ]
    }
   ],
   "source": [
    "for df in traffic_per_day.values():\n",
    "    print(df.shape)"
   ]
  },
  {
   "cell_type": "code",
   "execution_count": null,
   "metadata": {},
   "outputs": [],
   "source": []
  },
  {
   "cell_type": "code",
   "execution_count": null,
   "metadata": {},
   "outputs": [],
   "source": []
  },
  {
   "cell_type": "code",
   "execution_count": null,
   "metadata": {},
   "outputs": [],
   "source": []
  },
  {
   "cell_type": "code",
   "execution_count": null,
   "metadata": {},
   "outputs": [],
   "source": []
  },
  {
   "cell_type": "code",
   "execution_count": null,
   "metadata": {},
   "outputs": [],
   "source": []
  },
  {
   "cell_type": "code",
   "execution_count": null,
   "metadata": {},
   "outputs": [],
   "source": []
  },
  {
   "cell_type": "code",
   "execution_count": null,
   "metadata": {},
   "outputs": [],
   "source": []
  },
  {
   "cell_type": "code",
   "execution_count": null,
   "metadata": {},
   "outputs": [],
   "source": []
  },
  {
   "cell_type": "code",
   "execution_count": null,
   "metadata": {},
   "outputs": [],
   "source": []
  },
  {
   "cell_type": "code",
   "execution_count": null,
   "metadata": {},
   "outputs": [],
   "source": []
  }
 ],
 "metadata": {
  "kernelspec": {
   "display_name": "Python 3 (ipykernel)",
   "language": "python",
   "name": "python3"
  },
  "language_info": {
   "codemirror_mode": {
    "name": "ipython",
    "version": 3
   },
   "file_extension": ".py",
   "mimetype": "text/x-python",
   "name": "python",
   "nbconvert_exporter": "python",
   "pygments_lexer": "ipython3",
   "version": "3.9.7"
  }
 },
 "nbformat": 4,
 "nbformat_minor": 4
}
